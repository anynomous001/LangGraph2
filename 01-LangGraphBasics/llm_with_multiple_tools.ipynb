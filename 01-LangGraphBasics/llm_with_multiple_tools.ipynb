{
 "cells": [
  {
   "cell_type": "code",
   "execution_count": 25,
   "id": "da08a881",
   "metadata": {},
   "outputs": [],
   "source": [
    "from langchain_community.utilities import ArxivAPIWrapper,WikipediaAPIWrapper\n",
    "from langchain_community.tools import ArxivQueryRun,WikipediaQueryRun\n",
    "\n",
    "arxiv_api_wrapper = ArxivAPIWrapper(top_k_results=3,doc_content_chars_max=600)\n",
    "wikipedia_api_wrapper = WikipediaAPIWrapper(top_k_results=3,doc_content_chars_max=600)\n",
    "\n",
    "arxiv = ArxivQueryRun(api_wrapper=arxiv_api_wrapper)\n",
    "wikipedia = WikipediaQueryRun(api_wrapper=wikipedia_api_wrapper)\n",
    "\n"
   ]
  },
  {
   "cell_type": "code",
   "execution_count": 26,
   "id": "c5ff951e",
   "metadata": {},
   "outputs": [
    {
     "data": {
      "text/plain": [
       "'Published: 2023-05-23\\nTitle: Fast and energy-efficient non-volatile III-V-on-silicon photonic phase shifter based on memristors\\nAuthors: Zhuoran Fang, Bassem Tossoun, Antoine Descos, Di Liang, Xue Huang, Geza Kurczveil, Arka Majumdar, Raymond G. Beausoleil\\nSummary: Silicon photonics has evolved from lab research to commercial products in the\\npast decade as it plays an increasingly crucial role in data communication for\\nnext-generation data centers and high performance computing1. Recently,\\nprogrammable silicon photonics has also found new applications in quantum2 and\\nclassical 3 information pr'"
      ]
     },
     "execution_count": 26,
     "metadata": {},
     "output_type": "execute_result"
    }
   ],
   "source": [
    "arxiv.invoke(\"What is the latest research on quantum computing?\")"
   ]
  },
  {
   "cell_type": "code",
   "execution_count": 27,
   "id": "61c8d386",
   "metadata": {},
   "outputs": [
    {
     "data": {
      "text/plain": [
       "'Page: LLVM\\nSummary: LLVM, also called LLVM Core, is a target-independent optimizer and code generator. It can be used to develop a frontend for any programming language and a backend for any instruction set architecture. LLVM is designed around a language-independent intermediate representation (IR) that serves as a portable, high-level assembly language that can be optimized with a variety of transformations over multiple passes. The name LLVM originally stood for Low Level Virtual Machine. However, the project has since expanded, and the name is no longer an acronym but an orphan initialism.'"
      ]
     },
     "execution_count": 27,
     "metadata": {},
     "output_type": "execute_result"
    }
   ],
   "source": [
    "wikipedia.invoke(\"What is frontend computing?\")"
   ]
  },
  {
   "cell_type": "code",
   "execution_count": null,
   "id": "7ea3f715",
   "metadata": {},
   "outputs": [],
   "source": [
    "# import os\n",
    "# from  dotenv import load_dotenv\n",
    "# load_dotenv()\n",
    "\n",
    "# os.environ[\"TAVILY_API_KEY\"] = os.getenv(\"TAVILY_API_KEY\")\n",
    "# os.environ[\"GROQ_API_KEY\"] = os.getenv(\"GROQ_API_KEY\")\n"
   ]
  },
  {
   "cell_type": "code",
   "execution_count": null,
   "id": "453e8c06",
   "metadata": {},
   "outputs": [
    {
     "data": {
      "text/plain": [
       "{'query': 'What is quantum computing?',\n",
       " 'follow_up_questions': None,\n",
       " 'answer': None,\n",
       " 'images': [],\n",
       " 'results': [{'title': 'What is quantum computing? - IBM',\n",
       "   'url': 'https://www.ibm.com/think/topics/quantum-computing',\n",
       "   'content': 'What Is Quantum Computing? What is quantum computing? What is quantum computing? The primary difference between classical and quantum computers is that quantum computers use qubits instead of bits. While quantum computing does use binary code, qubits process information differently from classical computers. Because qubits can hold a superposition and exhibit interference, a quantum computer that uses qubits approaches problems in ways different from classical computers. IBM Quantum Computing  ### What is quantum computing? Quantum computers, like classical computers, are problem-solving machines. ### The difference between quantum and classical computing #### Quantum computing Unlike classical computers that must compute every step of a complicated calculation, quantum circuits made from logical qubits can process complex problems more efficiently.',\n",
       "   'score': 0.9006087,\n",
       "   'raw_content': None},\n",
       "  {'title': 'Quantum computing: A simple introduction - Explain that Stuff',\n",
       "   'url': 'https://www.explainthatstuff.com/quantum-computing.html',\n",
       "   'content': \"# Quantum computing quantum computing and how does it work? ## What is quantum computing? The following year, Richard Feynman sketched out roughly how a machine using quantum principles could carry out basic computations. Artwork: Quantum computing means storing and processing information using individual atoms, ions, electrons, or photons. Photo: A quantum-computing ion trap experiment. If quantum computers could ## How far off are quantum computers? Chart: Quantum computing might look like a race to see who can notch up most qubits, most quickly—but it's much more about who can turn theoretical lab science into real world practical applications most effectively. Computing offshoot announced a service called Braket, which gives its users access to quantum computing simulators based on machines being developed by three cutting-edge companies (D-wave, IonQ, and Rigletti). (2012/2023) Quantum computing.\",\n",
       "   'score': 0.8923472,\n",
       "   'raw_content': None},\n",
       "  {'title': 'Explainer: What is a quantum computer? - MIT Technology Review',\n",
       "   'url': 'https://www.technologyreview.com/2019/01/29/66141/what-is-quantum-computing/',\n",
       "   'content': 'The secret to a quantum computer’s power lies in its ability to generate and manipulate quantum bits, or qubits. Quantum computers, on the other hand, use qubits, which are typically subatomic particles such as electrons or photons. Qubits have some quirky quantum properties that mean a connected group of them can provide way more processing power than the same number of binary bits. But thanks to entanglement, adding extra qubits to a quantum machine produces an exponential increase in its number-crunching ability. Quantum computers harness entangled qubits in a kind of quantum daisy chain to work their magic. The bad news is that quantum machines are way more error-prone than classical computers because of decoherence.',\n",
       "   'score': 0.8548001,\n",
       "   'raw_content': None},\n",
       "  {'title': 'Quantum Computing Explained | NIST',\n",
       "   'url': 'https://www.nist.gov/quantum-information-science/quantum-computing-explained',\n",
       "   'content': 'Quantum Computing Explained | NIST https://www.nist.gov/quantum-information-science/quantum-computing-explained But instead of regular classical bits, quantum computers use quantum bits, or **qubits**. And the quantum states of individual qubits can be entangled with each other. Someone using a quantum computer must first entangle qubits to harness their exponential computing power. “Different computations can indeed be done in superposition, achieving a kind of parallel computing,” says Stephen Jordan, a Google quantum computing researcher who was a longtime NIST staff member andJoint Center for Quantum Information and Computer Science fellow. The quantum energy states of electrons inside these ions represent the 0s and 1s (and combinations thereof) for quantum computation. Ion qubits can sustain quantum superpositions for a long time, but they are relatively sluggish at performing computations.',\n",
       "   'score': 0.7730283,\n",
       "   'raw_content': None},\n",
       "  {'title': 'Quantum computing - Wikipedia',\n",
       "   'url': 'https://en.wikipedia.org/wiki/Quantum_computing',\n",
       "   'content': '| Fields | | Quantum | * algorithms * amplifier * bus * cellular automata * channel * circuit * complexity theory * computing * cryptography * post-quantum * dynamics * electronics * error correction * finite automata * image processing * imaging * information * key distribution * logic * logic clock * logic gate * machine * machine learning * metamaterial * network * neural network * optics * programming * sensing * simulator * teleportation | | --- | | Other | * Acoustic levitation * Anti-gravity * Cloak of invisibility * Digital scent technology * Force field \"Force field (technology)\") * Plasma window * Immersive virtual reality \"Immersion (virtual reality)\") * Magnetic refrigeration * Phased-array optics * Thermoacoustic heat engine | |',\n",
       "   'score': 0.49494705,\n",
       "   'raw_content': None}],\n",
       " 'response_time': 1.4}"
      ]
     },
     "execution_count": 29,
     "metadata": {},
     "output_type": "execute_result"
    }
   ],
   "source": [
    "# import os\n",
    "# from dotenv import load_dotenv\n",
    "\n",
    "# load_dotenv()\n",
    "\n",
    "# from langchain_community.tools.tavily_search import TavilySearchResults\n",
    "# from langchain_tavily import TavilySearch\n",
    "\n",
    "# tavily = TavilySearch(api_key=os.getenv(\"TAVILY_API_KEY\"))\n",
    "# tavily.invoke(\"What is quantum computing?\")"
   ]
  },
  {
   "cell_type": "code",
   "execution_count": null,
   "id": "691ad197",
   "metadata": {},
   "outputs": [],
   "source": [
    "tools = [arxiv, wikipedia,tavily]\n",
    "\n",
    "from langchain_groq import ChatGroq\n",
    "\n",
    "llm = ChatGroq(model=\"Gemma2-9b-It\")\n",
    "\n",
    "llm_with_tools = llm.bind_tools(tools)\n"
   ]
  },
  {
   "cell_type": "code",
   "execution_count": 12,
   "id": "a27848f9",
   "metadata": {},
   "outputs": [],
   "source": [
    "## deifining state schema\n",
    "\n",
    "from typing_extensions import TypedDict\n",
    "from typing import Annotated\n",
    "from langchain_core.messages import AnyMessage\n",
    "from langgraph.graph.message import add_messages\n",
    "\n",
    "\n",
    "class State(TypedDict):\n",
    "    messages:Annotated[list[AnyMessage],add_messages]\n",
    "    \n",
    "\n",
    "\n",
    "def tool_fucntion(State:State) -> dict:\n",
    "    \"\"\"    Function to invoke the LLM with tools and return the messages.\n",
    "    Args:\n",
    "        State (State): The state containing the messages.\n",
    "    Returns:\n",
    "        dict: A dictionary containing the messages after invoking the LLM with tools.\n",
    "\n",
    "    \"\"\"   \n",
    "     # Invoke the LLM with tools and return the messages\n",
    "    return {'messages':llm_with_tools.invoke(State['messages'])}"
   ]
  },
  {
   "cell_type": "code",
   "execution_count": 30,
   "id": "b4addbe2",
   "metadata": {},
   "outputs": [
    {
     "data": {
      "image/png": "[encoded data removed]",
      "text/plain": [
       "<IPython.core.display.Image object>"
      ]
     },
     "metadata": {},
     "output_type": "display_data"
    }
   ],
   "source": [
    "# defining the graph\n",
    "\n",
    "from langgraph.graph import StateGraph,START,END\n",
    "from IPython.display import display,Image\n",
    "from langgraph.prebuilt import ToolNode,tools_condition\n",
    "\n",
    "\n",
    "graph = StateGraph(State)\n",
    "\n",
    "graph.add_node(\"tool_function\",tool_fucntion)\n",
    "graph.add_node('tools',ToolNode(tools))\n",
    "\n",
    "graph.add_edge(START,\"tool_function\")\n",
    "graph.add_conditional_edges('tool_function',\n",
    "#is the latest message (result of the tool invocation) triigers a tool call then tools_consotion will route to tools,\n",
    "#if not it will route to END\n",
    "tools_condition)\n",
    "graph.add_edge('tools',END)\n",
    "\n",
    "\n",
    "\n",
    "graph_builder = graph.compile()\n",
    "\n",
    "display(Image(graph_builder.get_graph().draw_mermaid_png()))"
   ]
  },
  {
   "cell_type": "code",
   "execution_count": 31,
   "id": "4388a125",
   "metadata": {},
   "outputs": [
    {
     "name": "stdout",
     "output_type": "stream",
     "text": [
      "================================\u001b[1m Human Message \u001b[0m=================================\n",
      "\n",
      "tell me about recent developments in AI field?\n",
      "==================================\u001b[1m Ai Message \u001b[0m==================================\n",
      "Tool Calls:\n",
      "  tavily_search (aee7qfmgc)\n",
      " Call ID: aee7qfmgc\n",
      "  Args:\n",
      "    query: recent developments in AI field\n",
      "    search_depth: advanced\n",
      "    time_range: week\n",
      "=================================\u001b[1m Tool Message \u001b[0m=================================\n",
      "Name: tavily_search\n",
      "\n",
      "{\"query\": \"recent developments in AI field\", \"follow_up_questions\": null, \"answer\": null, \"images\": [], \"results\": [{\"title\": \"Top AI Trends 2025: Key Developments to Watch - Appinventiv\", \"url\": \"https://appinventiv.com/blog/ai-trends/\", \"content\": \"One of the most notable new developments in the AI field is the use of autonomous systems to make decisions for users. These AI agents are made to take on jobs proactively, enhancing output and decision-making across a range of sectors, including banking and healthcare. Agentic AI can lower the cognitive burden on human operators and streamline workflows by acting autonomously and anticipating user needs. [...] A. The current state of AI includes advancements in AutoML for automating machine learning processes, the rise of Multi-modal AI combining text, image, and speech processing, Explainable AI for transparency in decision-making, enhanced Computer Vision capabilities, and the evolution of Neural Networks for more efficient learning. Additionally, Digital Twins are gaining prominence for simulating real-world objects digitally, reflecting the diverse applications transforming industries globally. [...] Also, Meta has recently introduced five significant new AI models and research initiatives. These include multi-modal systems capable of processing both text and images, advanced language models, music generation technology, AI speech detection, and initiatives to enhance diversity in AI systems.\\n\\n### Digital Twins\", \"score\": 0.82492816, \"raw_content\": null}, {\"url\": \"https://medium.com/@anirudhsekar2008/unveiling-the-future-the-latest-breakthroughs-in-artificial-intelligence-7255323d794f\", \"title\": \"Unveiling the Future: The Latest Breakthroughs in Artificial Intelligence\", \"content\": \"Artificial Intelligence has long been the subject of fascination, speculation, and — more recently — revolutionary change. In just the past year, the field has taken several major leaps, not only in the technical sophistication of AI models but also in the ways these technologies are shaping industries, societies, and everyday life. As we enter a new chapter of AI development, breakthroughs are arriving at a pace faster than ever before. This article explores the most transformative recent [...] # The Rapid Evolution of Language Models\\n\\nOne of the most striking areas of AI advancement in recent months has been in the development of large language models. These models — initially designed to predict text — have grown to become multi-talented generalists capable of everything from creative writing to programming and even scientific reasoning. [...] Autonomous agents — AI systems that can perform tasks over time without continuous human input — have seen a massive revival. Tools like AutoGPT, BabyAGI, and MetaGPT were early experiments, but the new wave of agent-based architectures is far more robust, efficient, and secure.\", \"score\": 0.783542, \"raw_content\": null}, {\"title\": \"Artificial Intelligence (AI) News Updates: Latest News About Google AI ...\", \"url\": \"https://ai.economictimes.com/\", \"content\": \"Artificial Intelligence: Stay ahead of the curve with the latest Artificial Intelligence (AI) news and updates. Explore the advancements of Google AI, ChatGPT, Bard, and more.\", \"score\": 0.56258565, \"raw_content\": null}], \"response_time\": 3.55}\n"
     ]
    }
   ],
   "source": [
    "from  langchain_core.messages import HumanMessage, ToolMessage\n",
    "\n",
    "messages = graph_builder.invoke({\"messages\":HumanMessage(\"tell me about recent developments in AI field?\")})\n",
    "\n",
    "\n",
    "for message in messages['messages']:\n",
    "    message.pretty_print()  # Print the message content"
   ]
  }
 ],
 "metadata": {
  "kernelspec": {
   "display_name": "langgraph",
   "language": "python",
   "name": "python3"
  },
  "language_info": {
   "codemirror_mode": {
    "name": "ipython",
    "version": 3
   },
   "file_extension": ".py",
   "mimetype": "text/x-python",
   "name": "python",
   "nbconvert_exporter": "python",
   "pygments_lexer": "ipython3",
   "version": "3.13.5"
  }
 },
 "nbformat": 4,
 "nbformat_minor": 5
}
