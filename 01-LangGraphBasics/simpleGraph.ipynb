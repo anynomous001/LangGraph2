{
 "cells": [
  {
   "cell_type": "code",
   "execution_count": 10,
   "id": "b0d0653f",
   "metadata": {},
   "outputs": [],
   "source": [
    "\n",
    "from typing_extensions import TypedDict\n",
    "from IPython.display import Image, display\n",
    "\n",
    "\n",
    "\n",
    "from langgraph.graph import StateGraph, START, END\n",
    "\n",
    "from typing import Annotated\n",
    "from langgraph.graph.message import add_messages\n",
    "\n",
    "class State(TypedDict):\n",
    "    message: Annotated[list,add_messages]"
   ]
  },
  {
   "cell_type": "code",
   "execution_count": 11,
   "id": "42748f5c",
   "metadata": {},
   "outputs": [
    {
     "name": "stdout",
     "output_type": "stream",
     "text": [
      "GROQ_API_KEY\n"
     ]
    }
   ],
   "source": [
    "\n",
    "import os\n",
    "from dotenv import load_dotenv\n",
    "load_dotenv()\n",
    "\n",
    "os.environ[\"GROQ_API_KEY\"]=os.getenv(\"GROQ_API_KEY\")\n",
    "\n",
    "print(\"GROQ_API_KEY\")"
   ]
  },
  {
   "cell_type": "code",
   "execution_count": 19,
   "id": "d826b5f4",
   "metadata": {},
   "outputs": [],
   "source": [
    "from langchain_groq import ChatGroq\n",
    "\n",
    "llm = ChatGroq(model=\"Gemma2-9b-It\")\n",
    "\n"
   ]
  },
  {
   "cell_type": "code",
   "execution_count": 24,
   "id": "90da926a",
   "metadata": {},
   "outputs": [],
   "source": [
    "def superbot(state):\n",
    "    return {\"message\":llm.invoke(state[\"message\"])}"
   ]
  },
  {
   "cell_type": "code",
   "execution_count": 25,
   "id": "fa00804e",
   "metadata": {},
   "outputs": [
    {
     "data": {
      "image/png": "[encoded data removed]",
      "text/plain": [
       "<IPython.core.display.Image object>"
      ]
     },
     "metadata": {},
     "output_type": "display_data"
    }
   ],
   "source": [
    "graph = StateGraph(State)\n",
    "graph.add_node(\"SuperBot\",superbot)\n",
    "graph.add_edge(START, \"SuperBot\")\n",
    "graph.add_edge(\"SuperBot\", END)\n",
    "\n",
    "\n",
    "graph_builder= graph.compile()\n",
    "\n",
    "\n",
    "\n",
    "#display\n",
    "display(Image(graph_builder.get_graph().draw_mermaid_png()))\n",
    "\n"
   ]
  },
  {
   "cell_type": "code",
   "execution_count": 26,
   "id": "8e63a683",
   "metadata": {},
   "outputs": [
    {
     "data": {
      "text/plain": [
       "{'message': [HumanMessage(content='what is the most difficult language to learn?', additional_kwargs={}, response_metadata={}, id='9b37edda-1557-4084-9dc8-68a6ba1b06b9'),\n",
       "  AIMessage(content='There isn\\'t a single definitive answer to the question of which language is the most difficult to learn. \\n\\n**Difficulty is subjective and depends on several factors, including:**\\n\\n* **Your native language:** Languages that are structurally similar to your own will generally be easier to learn. For example, a Spanish speaker might find Italian relatively easy, while a Mandarin speaker might find English more challenging.\\n\\n* **Your language learning experience:** If you\\'ve already learned several languages, you\\'ll likely find it easier to learn new ones.\\n\\n* **Your motivation and learning style:**  A language you\\'re passionate about and learn in a way that suits you will be less daunting.\\n\\n* **Exposure and resources:** Languages with readily available learning materials and opportunities for immersion are generally easier to learn.\\n\\n**However, some languages are commonly cited as being particularly challenging for English speakers due to factors like:**\\n\\n* **Complex grammar:** Languages like **Mandarin Chinese, Arabic, Hungarian, and Finnish** have intricate grammatical systems that differ significantly from English.\\n\\n* **Unfamiliar writing systems:** Languages like **Chinese, Japanese, Korean, and Arabic** use writing systems that are non-alphabetic and can be challenging to master.\\n* **Tonal languages:** Languages like **Mandarin Chinese, Vietnamese, and Thai** use tones to distinguish meaning, which can be difficult for speakers of non-tonal languages to grasp.\\n\\n**Ultimately, the \"most difficult\" language is the one that poses the biggest challenge for you personally.**\\n\\n\\nInstead of focusing on the most difficult language, it\\'s more helpful to choose a language that interests you and aligns with your learning goals.\\n\\n', additional_kwargs={}, response_metadata={'token_usage': {'completion_tokens': 343, 'prompt_tokens': 18, 'total_tokens': 361, 'completion_time': 0.623636364, 'prompt_time': 0.001936071, 'queue_time': 0.30451305700000003, 'total_time': 0.625572435}, 'model_name': 'Gemma2-9b-It', 'system_fingerprint': 'fp_10c08bf97d', 'finish_reason': 'stop', 'logprobs': None}, id='run--a0934119-0309-4a7d-9d62-af8a979dda5d-0', usage_metadata={'input_tokens': 18, 'output_tokens': 343, 'total_tokens': 361})]}"
      ]
     },
     "execution_count": 26,
     "metadata": {},
     "output_type": "execute_result"
    }
   ],
   "source": [
    "graph_builder.invoke({\"message\":\"what is the most difficult language to learn?\"})"
   ]
  }
 ],
 "metadata": {
  "kernelspec": {
   "display_name": "langgraph",
   "language": "python",
   "name": "python3"
  },
  "language_info": {
   "codemirror_mode": {
    "name": "ipython",
    "version": 3
   },
   "file_extension": ".py",
   "mimetype": "text/x-python",
   "name": "python",
   "nbconvert_exporter": "python",
   "pygments_lexer": "ipython3",
   "version": "3.13.5"
  }
 },
 "nbformat": 4,
 "nbformat_minor": 5
}
